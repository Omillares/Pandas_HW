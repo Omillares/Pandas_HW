import pandas as pd
import numpy as np
import matplotlib.pyplot as plt

#District Summary#
Schools_df = pd.read_csv('Downloads\schools_complete.csv', sep = ',')
Students_df = pd.read_csv('Downloads\students_complete.csv', sep = ',')
Schools_df.rename(columns = {'name':'name_of_schools'}, inplace=True)
Students_df.rename(columns = {'school':'name_of_schools'}, inplace=True)
total_schools = Schools_df.name_of_schools.count()
total_students = Students_df['name'].count()
total_budget = Schools_df['budget'].sum()
average_math_score = Students_df['math_score'].mean()
average_reading_score = Students_df['reading_score'].mean()
passing_math =  Students_df['math_score'].sum()/Students_df['name'].count()
passing_reading = Students_df['reading_score'].sum()/Students_df['name'].count()
overall_passing_rate =  passing_math + passing_reading/Students_df['name'].count()
District_Summary = pd.DataFrame({'total_schools':[total_schools],'total_students':[total_students], 'total_budget':[total_budget], 'average_math_score':[average_math_score],
             'average_reading_score':[average_reading_score], 'passing_math':[passing_math], 'passing_reading':[passing_reading], 'overall_passing_rate':[overall_passing_rate]},
             columns=['total_schools','total_students', 'total_budget', 'average_math_score',
             'average_reading_score', 'passing_math', 'passing_reading', 'overall_passing_rate'])

#School_Summary#
PYHW_df = pd.merge(Schools_df, Students_df, on='name_of_schools')
GT = pd.DataFrame(PYHW_df, columns=['name_of_schools', 'type', 'budget', 'name', 'reading_score', 'math_score'])
STC = GT['name_of_schools'].value_counts()
GRP = GT.groupby(['name_of_schools'])
RS = GRP['reading_score'].mean()
MS = GRP['math_score'].mean()
B = GRP['budget'].unique()
PSB = B/STC
PSB.head()
PM = GRP['math_score'].sum()/STC
PR = GRP['reading_score'].sum()/STC
T = GRP['type'].unique()
O = PM+PR/STC
O.head()
SS = pd.DataFrame({'Total_Students':STC,'Total_School_Budget':B, 'Reading_Totals':RS, 'Per_Student_Budget':
                   PSB,'Average_Math_Score':MS, 'Average_Reading_Score':RS, 'School_Type':T, 'Passing_Math':PM, 
                   'Passing_Reading':PR, 'Overall_Passing_Rate':O},
                   columns=['School_Type','Total_Students','Total_School_Budget','Per_Student_Budget','Average_Math_Score',
                            'Average_Reading_Score','Passing_Math','Passing_Reading','Overall_Passing_Rate'])
SS.head()

#Top Performing Schools#
Bottom_Performers = SS.loc[SS["Overall_Passing_Rate"] <= 77.2]
Bottom_Performers.tail(5)

#Math Scores by Grade#
Table = pd.pivot_table(Students_df, index=['name_of_schools'],values=['math_score'],columns =['grade'],aggfunc=[np.mean]) 
Table.head()

bins = [0,1000,2000,5000]
group_names = ['Small', 'Medium', 'Large']
SST = pd.DataFrame(SS, columns=['Average_Math_Score','Average_Reading_Score','Total_Students','Passing_Reading',
                               'Overall_Passing_Rate'])
pd.cut(SST['Total_Students'],bins,labels=group_names)
SST['School_Type'] = pd.cut(SST['Total_Students'],bins,labels=group_names)
SSTFinal = pd.DataFrame(SST, columns=['School_Type','Average_Math_Score','Average_Reading_Score','Total_Students','Passing_Reading',
                               'Overall_Passing_Rate'])
SSSFinal.head()
#Reading Scores by Grade#
Table = pd.pivot_table(Students_df, index=['name_of_schools'],values=['reading_score'],columns =['grade'],aggfunc=[np.mean]) 
Table.head()

#Scores by School Size#
bins = [0-585,615,645,675]
groupnames = ['need_to-improve', 'okay', 'good', 'excellent']
SSS = pd.DataFrame(SS, columns=['Average_Math_Score','Average_Reading_Score','Passing_Reading','Overall_Passing_Rate'
                               ,'Per_Student_Budget'])
pd.cut(SSS['Per_Student_Budget'],bins,labels=group_names)
SSS['School_Size'] = pd.cut(SSS['Per_Student_Budget'],bins,labels=group_names)
SSSFinal = pd.DataFrame(SSS, columns=['School_Size', 'Per_Student_Budget','Average_Math_Score','Average_Reading_Score','Passing_Reading',
                               'Overall_Passing_Rate',])
SSSFinal.head()

#Scores by School Type#
TS = pd.pivot_table(SS,index=['School_Type'], 
                        values=['Total_Students'],
                        columns=['Average_Math_Score','Average_Reading_Score','Passing_Math','Passing_Reading','Overall_Passing_Rate'],
                        aggfunc=[np.mean]) 